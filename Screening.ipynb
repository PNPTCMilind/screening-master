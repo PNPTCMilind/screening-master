{
 "cells": [
  {
   "cell_type": "code",
   "execution_count": null,
   "id": "0cb24145",
   "metadata": {},
   "outputs": [],
   "source": [
    "import pandas as pd"
   ]
  },
  {
   "cell_type": "code",
   "execution_count": 1,
   "id": "cf255868",
   "metadata": {},
   "outputs": [
    {
     "name": "stderr",
     "output_type": "stream",
     "text": [
      "/Users/aldemarogonzalez/anaconda3/lib/python3.10/site-packages/pandas/core/arrays/masked.py:60: UserWarning: Pandas requires version '1.3.6' or newer of 'bottleneck' (version '1.3.5' currently installed).\n",
      "  from pandas.core import (\n",
      "/var/folders/2r/b60vp1dj2zn0rg5yg_gyy0zr0000gq/T/ipykernel_62884/3231300853.py:1: DeprecationWarning: \n",
      "Pyarrow will become a required dependency of pandas in the next major release of pandas (pandas 3.0),\n",
      "(to allow more performant data types, such as the Arrow string type, and better interoperability with other libraries)\n",
      "but was not found to be installed on your system.\n",
      "If this would cause problems for you,\n",
      "please provide us feedback at https://github.com/pandas-dev/pandas/issues/54466\n",
      "        \n",
      "  import pandas as pd\n"
     ]
    },
    {
     "name": "stdout",
     "output_type": "stream",
     "text": [
      "Number of Organization in the Organization.csv: 3347706\n",
      "Number of columns in the People.csv: 41\n",
      "Column names in the Organization.csv:\n",
      "uuid\n",
      "name\n",
      "type\n",
      "permalink\n",
      "cb_url\n",
      "rank\n",
      "created_at\n",
      "updated_at\n",
      "legal_name\n",
      "roles\n",
      "domain\n",
      "homepage_url\n",
      "country_code\n",
      "state_code\n",
      "region\n",
      "city\n",
      "address\n",
      "postal_code\n",
      "status\n",
      "short_description\n",
      "category_list\n",
      "category_groups_list\n",
      "num_funding_rounds\n",
      "total_funding_usd\n",
      "total_funding\n",
      "total_funding_currency_code\n",
      "founded_on\n",
      "last_funding_on\n",
      "closed_on\n",
      "employee_count\n",
      "email\n",
      "phone\n",
      "facebook_url\n",
      "linkedin_url\n",
      "twitter_url\n",
      "logo_url\n",
      "alias1\n",
      "alias2\n",
      "alias3\n",
      "primary_role\n",
      "num_exits\n"
     ]
    }
   ],
   "source": [
    "organization_path = '../Dataset/bulk_export/organizations.csv'  \n",
    "organization_data = pd.read_csv(organization_path)\n",
    "\n",
    "# Step 2: Manipulate or analyze the data as needed\n",
    "# For example, you can print the first few rows of the DataFrame using .head()\n",
    "# print(\"First 5 rows of the DataFrame:\")\n",
    "# print(organization_data.head())\n",
    "\n",
    "# Or you can perform some basic analysis, such as getting summary statistics using .describe()\n",
    "# print(\"\\nSummary statistics of the DataFrame:\")\n",
    "# print(organization_data.describe())\n",
    "\n",
    "organization_data_num_rows = organization_data.shape[0]\n",
    "print(\"Number of Organization in the Organization.csv:\", organization_data_num_rows)\n",
    "organization_data_num_columns = organization_data.shape[1] \n",
    "print(\"Number of columns in the Organization.csv:\", organization_data_num_columns)\n",
    "organization_data_column_names = organization_data.columns\n",
    "print(\"Column names in the Organization.csv:\")\n",
    "for name in organization_data_column_names:\n",
    "    print(name)"
   ]
  },
  {
   "cell_type": "code",
   "execution_count": 8,
   "id": "e7cdaac3",
   "metadata": {},
   "outputs": [
    {
     "name": "stdout",
     "output_type": "stream",
     "text": [
      "Number of People in the People.csv: 1854387\n",
      "Number of columns in the People.csv: 22\n",
      "Column names in the People.csv:\n",
      "uuid\n",
      "name\n",
      "type\n",
      "permalink\n",
      "cb_url\n",
      "rank\n",
      "created_at\n",
      "updated_at\n",
      "first_name\n",
      "last_name\n",
      "gender\n",
      "country_code\n",
      "state_code\n",
      "region\n",
      "city\n",
      "featured_job_organization_uuid\n",
      "featured_job_organization_name\n",
      "featured_job_title\n",
      "facebook_url\n",
      "linkedin_url\n",
      "twitter_url\n",
      "logo_url\n"
     ]
    }
   ],
   "source": [
    "people_path = '../Dataset/bulk_export/people.csv'  # Replace 'your_file.csv' with the actual path to your CSV file\n",
    "people_data = pd.read_csv(people_path)\n",
    "people_data_num_rows = people_data.shape[0] \n",
    "print(\"Number of People in the People.csv:\", people_data_num_rows)\n",
    "people_data_num_columns = people_data.shape[1] \n",
    "print(\"Number of columns in the People.csv:\", people_data_num_columns)\n",
    "people_data_column_names = people_data.columns\n",
    "print(\"Column names in the People.csv:\")\n",
    "for name in people_data_column_names:\n",
    "    print(name)"
   ]
  },
  {
   "cell_type": "code",
   "execution_count": 9,
   "id": "eac4dc6e",
   "metadata": {},
   "outputs": [
    {
     "name": "stdout",
     "output_type": "stream",
     "text": [
      "Number of funding in the funding.csv: 631092\n",
      "Number of columns in the DataFrame: 24\n",
      "Column names in the DataFrame:\n",
      "uuid\n",
      "name\n",
      "type\n",
      "permalink\n",
      "cb_url\n",
      "rank\n",
      "created_at\n",
      "updated_at\n",
      "country_code\n",
      "state_code\n",
      "region\n",
      "city\n",
      "investment_type\n",
      "announced_on\n",
      "raised_amount_usd\n",
      "raised_amount\n",
      "raised_amount_currency_code\n",
      "post_money_valuation_usd\n",
      "post_money_valuation\n",
      "post_money_valuation_currency_code\n",
      "investor_count\n",
      "org_uuid\n",
      "org_name\n",
      "lead_investor_uuids\n"
     ]
    }
   ],
   "source": [
    "funding_path = '../Dataset/bulk_export/funding_rounds.csv'\n",
    "funding_data = pd.read_csv(funding_path)\n",
    "funding_data_num_rows = funding_data.shape[0] \n",
    "print(\"Number of funding in the funding.csv:\", funding_data_num_rows)\n",
    "funding_data_num_columns = funding_data.shape[1]\n",
    "print(\"Number of columns in the funding.csv:\", funding_data_num_columns)\n",
    "funding_data_column_names = funding_data.columns\n",
    "print(\"Column names in the funding.csv:\")\n",
    "for name in funding_data_column_names:\n",
    "    print(name)"
   ]
  },
  {
   "cell_type": "markdown",
   "id": "6f861bfd",
   "metadata": {},
   "source": [
    "Filtering the companies\n",
    "\n",
    "I filtered companies using their creation date and removed the ones acquired, closed or that went public by an IPO during the Warmup window, "
   ]
  },
  {
   "cell_type": "code",
   "execution_count": 3,
   "id": "62089287",
   "metadata": {},
   "outputs": [],
   "source": [
    "# Convert 'founded_on' to datetime if it's not already\n",
    "organization_data['founded_on'] = pd.to_datetime(organization_data['founded_on'])\n",
    "\n",
    "# Define the start and end dates of the warm-up window\n",
    "warm_up_start_date = pd.Timestamp('2015-12-01')\n",
    "warm_up_end_date = pd.Timestamp('2018-12-31')\n",
    "\n",
    "# Filter companies founded during the warm-up window\n",
    "organization_data_filtered = organization_data[(organization_data['founded_on'] >= warm_up_start_date) & (organization_data['founded_on'] <= warm_up_end_date)]\n",
    "\n",
    "# Remove companies that were acquired, closed, or went public by an IPO during the warm-up window\n",
    "organization_data_filtered = organization_data_filtered[~organization_data_filtered['status'].isin(['acquired', 'closed', 'ipo'])]\n",
    "\n",
    "# At this point, organization_data_filtered contains companies that were founded during the warm-up window and are not in the acquired, closed, or IPO status during that period\n"
   ]
  },
  {
   "cell_type": "code",
   "execution_count": null,
   "id": "923a43cd",
   "metadata": {},
   "outputs": [],
   "source": [
    "organization_data_filtered.to_csv('../Dataset/filtered_data/filtered_organization.csv', index=False)\n"
   ]
  },
  {
   "cell_type": "markdown",
   "id": "d9225aaf",
   "metadata": {},
   "source": [
    "Now I filtered the companies which closed a funding round above Series B or above, which is not interesting for Plug and Play investments\n",
    "\n",
    "Step 2: Merge the DataFrames\n",
    "Next, merge the two DataFrames on the specified columns."
   ]
  },
  {
   "cell_type": "code",
   "execution_count": null,
   "id": "6a9e1053",
   "metadata": {},
   "outputs": [],
   "source": [
    "organization_funding_merged = pd.merge(funding_data, organization_data_filtered, left_on='org_uuid', right_on='uuid')\n"
   ]
  },
  {
   "cell_type": "markdown",
   "id": "737c5f49",
   "metadata": {},
   "source": [
    "Filter Out Series B or Above\n",
    "After merging, filter out organizations that have raised a Series B or above. Assuming the funding round information is stored in a column named round_type in the funding_rounds DataFrame, you can do this by excluding rows where round_type is in a list of Series B or above."
   ]
  },
  {
   "cell_type": "code",
   "execution_count": null,
   "id": "370c996d",
   "metadata": {},
   "outputs": [],
   "source": [
    "# Define the series that are Series B or above\n",
    "series_b_or_above = ['series_b', 'series_c', 'series_d', 'series_e', 'series_f', 'series_g']\n",
    "\n",
    "# Filter out organizations that have raised a Series B or above\n",
    "organization_data_filtered_by_round = organization_funding_merged[~organization_funding_merged['round_type'].isin(series_b_or_above)]"
   ]
  },
  {
   "cell_type": "code",
   "execution_count": null,
   "id": "444bb7df",
   "metadata": {},
   "outputs": [],
   "source": [
    "# Save the filtered DataFrame to a new CSV file\n",
    "organization_data_filtered_by_round.to_csv('../Dataset/filtered_data/filtered_organizations_by_rounds.csv', index=False)"
   ]
  }
 ],
 "metadata": {
  "kernelspec": {
   "display_name": "Python 3 (ipykernel)",
   "language": "python",
   "name": "python3"
  },
  "language_info": {
   "codemirror_mode": {
    "name": "ipython",
    "version": 3
   },
   "file_extension": ".py",
   "mimetype": "text/x-python",
   "name": "python",
   "nbconvert_exporter": "python",
   "pygments_lexer": "ipython3",
   "version": "3.10.8"
  }
 },
 "nbformat": 4,
 "nbformat_minor": 5
}
